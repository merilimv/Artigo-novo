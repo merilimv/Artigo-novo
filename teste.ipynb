{
 "cells": [
  {
   "cell_type": "code",
   "execution_count": 2,
   "metadata": {},
   "outputs": [
    {
     "name": "stderr",
     "output_type": "stream",
     "text": [
      "WARNING:root:No module named 'tempeh': LawSchoolGPADataset will be unavailable. To install, run:\n",
      "pip install 'aif360[LawSchoolGPA]'\n",
      "WARNING:root:No module named 'tensorflow': AdversarialDebiasing will be unavailable. To install, run:\n",
      "pip install 'aif360[AdversarialDebiasing]'\n",
      "WARNING:root:No module named 'tensorflow': AdversarialDebiasing will be unavailable. To install, run:\n",
      "pip install 'aif360[AdversarialDebiasing]'\n",
      "WARNING:root:No module named 'fairlearn': ExponentiatedGradientReduction will be unavailable. To install, run:\n",
      "pip install 'aif360[Reductions]'\n",
      "WARNING:root:No module named 'fairlearn': GridSearchReduction will be unavailable. To install, run:\n",
      "pip install 'aif360[Reductions]'\n",
      "WARNING:root:No module named 'fairlearn': GridSearchReduction will be unavailable. To install, run:\n",
      "pip install 'aif360[Reductions]'\n"
     ]
    }
   ],
   "source": [
    "import numpy as np\n",
    "import pandas as pd\n",
    "from aif360.datasets import BinaryLabelDataset\n",
    "from aif360.algorithms.preprocessing.optim_preproc_helpers.data_preproc_functions\\\n",
    "        import load_preproc_data_adult, load_preproc_data_german, load_preproc_data_compas\n",
    "from aif360.algorithms.preprocessing import DisparateImpactRemover\n",
    "from sklearn.metrics import mutual_info_score"
   ]
  },
  {
   "cell_type": "code",
   "execution_count": 33,
   "metadata": {},
   "outputs": [
    {
     "name": "stdout",
     "output_type": "stream",
     "text": [
      "<class 'pandas.core.frame.DataFrame'>\n",
      "RangeIndex: 999 entries, 0 to 998\n",
      "Data columns (total 15 columns):\n",
      " #   Column                                          Non-Null Count  Dtype  \n",
      "---  ------                                          --------------  -----  \n",
      " 0   classification                                  999 non-null    float64\n",
      " 1   sex                                             999 non-null    float64\n",
      " 2   checking_acc                                    999 non-null    float64\n",
      " 3   saving_acc                                      999 non-null    float64\n",
      " 4   atual_employ_since                              999 non-null    float64\n",
      " 5   installment_rate                                999 non-null    float64\n",
      " 6   credits_at_bank                                 999 non-null    float64\n",
      " 7   credit_historic_All cr at this bank paid        999 non-null    float64\n",
      " 8   credit_historic_Critical acc/Other cr existing  999 non-null    float64\n",
      " 9   credit_historic_Delay in paying                 999 non-null    float64\n",
      " 10  credit_historic_Existing credits paid           999 non-null    float64\n",
      " 11  credit_historic_No cr taken/all cr paid         999 non-null    float64\n",
      " 12  housing_For free                                999 non-null    float64\n",
      " 13  housing_Own                                     999 non-null    float64\n",
      " 14  housing_Rent                                    999 non-null    float64\n",
      "dtypes: float64(15)\n",
      "memory usage: 117.2 KB\n"
     ]
    }
   ],
   "source": [
    "df = pd.read_csv(\".//data//preprocessed_german.csv\")\n",
    "df.info()\n",
    "#compas = BinaryLabelDataset(favorable_label = 0., unfavorable_label = 1., df = df, label_names = [\"is_recid\"], protected_attribute_names= [\"race\"], unprivileged_protected_attributes = 1., privileged_protected_attributes = 0.)\n",
    "# # favoravel como 0 e não favoravel como 1\n",
    "# # privilegiado como 0 e não privilegiado como 1\n",
    "#df.to_csv(\".//data//preprocessed_compas_new.csv\", index = False)\n",
    "#df = pd.read_csv(\".//data//preprocessed_adult.csv\")\n",
    "# df['gender'].value_counts()\n",
    "# adult = BinaryLabelDataset(favorable_label = 1., unfavorable_label = 0., df = df, label_names = ['income'], protected_attribute_names = ['gender'], unprivileged_protected_attributes = 0., privileged_protected_attributes = 1.)\n",
    "# # depois ver direitinho como fazer o pré-processamento de features como fnlwgt, native-country e marital-status"
   ]
  },
  {
   "cell_type": "code",
   "execution_count": 34,
   "metadata": {},
   "outputs": [],
   "source": [
    "df['checking_acc'] = df['checking_acc'] * 3\n",
    "\n",
    "df['saving_acc'] = df['saving_acc'] * 4\n",
    "\n",
    "df[\"atual_employ_since\"] = df[\"atual_employ_since\"] * 4\n",
    "\n",
    "df['installment_rate'] = df['installment_rate'] * 3\n",
    "\n",
    "df['credits_at_bank'] = df['credits_at_bank'] * 3"
   ]
  },
  {
   "cell_type": "code",
   "execution_count": 35,
   "metadata": {},
   "outputs": [
    {
     "name": "stdout",
     "output_type": "stream",
     "text": [
      "<class 'pandas.core.frame.DataFrame'>\n",
      "RangeIndex: 999 entries, 0 to 998\n",
      "Data columns (total 32 columns):\n",
      " #   Column                                          Non-Null Count  Dtype  \n",
      "---  ------                                          --------------  -----  \n",
      " 0   classification                                  999 non-null    float64\n",
      " 1   sex                                             999 non-null    float64\n",
      " 2   credit_historic_All cr at this bank paid        999 non-null    float64\n",
      " 3   credit_historic_Critical acc/Other cr existing  999 non-null    float64\n",
      " 4   credit_historic_Delay in paying                 999 non-null    float64\n",
      " 5   credit_historic_Existing credits paid           999 non-null    float64\n",
      " 6   credit_historic_No cr taken/all cr paid         999 non-null    float64\n",
      " 7   housing_For free                                999 non-null    float64\n",
      " 8   housing_Own                                     999 non-null    float64\n",
      " 9   housing_Rent                                    999 non-null    float64\n",
      " 10  checking_acc_0.0                                999 non-null    uint8  \n",
      " 11  checking_acc_1.0                                999 non-null    uint8  \n",
      " 12  checking_acc_2.0                                999 non-null    uint8  \n",
      " 13  checking_acc_3.0                                999 non-null    uint8  \n",
      " 14  saving_acc_0.0                                  999 non-null    uint8  \n",
      " 15  saving_acc_1.0                                  999 non-null    uint8  \n",
      " 16  saving_acc_2.0                                  999 non-null    uint8  \n",
      " 17  saving_acc_3.0                                  999 non-null    uint8  \n",
      " 18  saving_acc_4.0                                  999 non-null    uint8  \n",
      " 19  atual_employ_since_0.0                          999 non-null    uint8  \n",
      " 20  atual_employ_since_1.0                          999 non-null    uint8  \n",
      " 21  atual_employ_since_2.0                          999 non-null    uint8  \n",
      " 22  atual_employ_since_3.0                          999 non-null    uint8  \n",
      " 23  atual_employ_since_4.0                          999 non-null    uint8  \n",
      " 24  installment_rate_0.0                            999 non-null    uint8  \n",
      " 25  installment_rate_1.0                            999 non-null    uint8  \n",
      " 26  installment_rate_2.0                            999 non-null    uint8  \n",
      " 27  installment_rate_3.0                            999 non-null    uint8  \n",
      " 28  credits_at_bank_0.0                             999 non-null    uint8  \n",
      " 29  credits_at_bank_1.0                             999 non-null    uint8  \n",
      " 30  credits_at_bank_2.0                             999 non-null    uint8  \n",
      " 31  credits_at_bank_3.0                             999 non-null    uint8  \n",
      "dtypes: float64(10), uint8(22)\n",
      "memory usage: 99.6 KB\n"
     ]
    }
   ],
   "source": [
    "# Variáveis categóricas codificadas como numéricas\n",
    "categorical_vars = ['checking_acc', 'saving_acc', 'atual_employ_since', 'installment_rate', 'credits_at_bank']\n",
    "\n",
    "# Aplicando o one-hot encoding para cada variável categórica\n",
    "for var in categorical_vars:\n",
    "    one_hot = pd.get_dummies(df[var], prefix=var)\n",
    "    df = df.drop(var, axis=1)\n",
    "    df = pd.concat([df, one_hot], axis=1)\n",
    "df.info()\n",
    "\n",
    "df.to_csv('.//data//new_german.csv', index = False)"
   ]
  },
  {
   "cell_type": "code",
   "execution_count": 64,
   "metadata": {},
   "outputs": [
    {
     "ename": "NameError",
     "evalue": "name 'stdf' is not defined",
     "output_type": "error",
     "traceback": [
      "\u001b[1;31m---------------------------------------------------------------------------\u001b[0m",
      "\u001b[1;31mNameError\u001b[0m                                 Traceback (most recent call last)",
      "\u001b[1;32mc:\\Users\\murilo.pinheiro\\Documents\\Notebooks\\Artigo\\teste.ipynb Cell 3\u001b[0m in \u001b[0;36m3\n\u001b[0;32m      <a href='vscode-notebook-cell:/c%3A/Users/murilo.pinheiro/Documents/Notebooks/Artigo/teste.ipynb#W2sZmlsZQ%3D%3D?line=0'>1</a>\u001b[0m dpr \u001b[39m=\u001b[39m DisparateImpactRemover(repair_level \u001b[39m=\u001b[39m \u001b[39m0.5\u001b[39m, sensitive_attribute \u001b[39m=\u001b[39m \u001b[39m'\u001b[39m\u001b[39mrace\u001b[39m\u001b[39m'\u001b[39m)\n\u001b[1;32m----> <a href='vscode-notebook-cell:/c%3A/Users/murilo.pinheiro/Documents/Notebooks/Artigo/teste.ipynb#W2sZmlsZQ%3D%3D?line=2'>3</a>\u001b[0m dpr\u001b[39m.\u001b[39mfit_transform(stdf)\n",
      "\u001b[1;31mNameError\u001b[0m: name 'stdf' is not defined"
     ]
    }
   ],
   "source": [
    "dpr = DisparateImpactRemover(repair_level = 0.5, sensitive_attribute = 'race')\n",
    "\n",
    "dpr.fit_transform(stdf)"
   ]
  }
 ],
 "metadata": {
  "kernelspec": {
   "display_name": "Python 3",
   "language": "python",
   "name": "python3"
  },
  "language_info": {
   "codemirror_mode": {
    "name": "ipython",
    "version": 3
   },
   "file_extension": ".py",
   "mimetype": "text/x-python",
   "name": "python",
   "nbconvert_exporter": "python",
   "pygments_lexer": "ipython3",
   "version": "3.10.7"
  },
  "orig_nbformat": 4
 },
 "nbformat": 4,
 "nbformat_minor": 2
}
